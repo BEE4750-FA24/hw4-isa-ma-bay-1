{
  "cells": [
    {
      "cell_type": "markdown",
      "id": "1f9ca328-7409-4f06-9989-57f5289c50e0",
      "metadata": {},
      "source": [
        "# BEE 4750 Homework 4: Linear Programming and Capacity Expansion\n",
        "\n",
        "**Name**:\n",
        "\n",
        "**ID**:\n",
        "\n",
        "> **Due Date**\n",
        ">\n",
        "> Thursday, 11/07/23, 9:00pm\n",
        "\n",
        "## Overview\n",
        "\n",
        "### Instructions\n",
        "\n",
        "-   Problem 1 asks you to formulate and solve a resource allocation\n",
        "    problem using linear programming.\n",
        "-   Problem 2 asks you to formulate, solve, and analyze a standard\n",
        "    generating capacity expansion problem.\n",
        "-   Problem 3 (5750 only) asks you to add a CO<sub>2</sub> constraint to\n",
        "    the capacity expansion problem and identify changes in the resulting\n",
        "    solution.\n",
        "\n",
        "### Load Environment\n",
        "\n",
        "The following code loads the environment and makes sure all needed\n",
        "packages are installed. This should be at the start of most Julia\n",
        "scripts."
      ]
    },
    {
      "cell_type": "code",
      "execution_count": 5,
      "id": "2",
      "metadata": {},
      "outputs": [
        {
          "name": "stderr",
          "output_type": "stream",
          "text": [
            "\u001b[32m\u001b[1m  Activating\u001b[22m\u001b[39m project at `~/BEE 4750/Homework/hw4-isa-ma-bay-1`\n",
            "\u001b[32m\u001b[1m   Installed\u001b[22m\u001b[39m DisplayAs ────── v0.1.6\n",
            "\u001b[32m\u001b[1m   Installed\u001b[22m\u001b[39m ArgCheck ─────── v2.3.0\n",
            "\u001b[32m\u001b[1m   Installed\u001b[22m\u001b[39m MarkdownTables ─ v1.1.0\n",
            "\u001b[32m\u001b[1mPrecompiling\u001b[22m\u001b[39m project...\n",
            "\u001b[32m  ✓ \u001b[39m\u001b[90mArgCheck\u001b[39m\n",
            "\u001b[32m  ✓ \u001b[39m\u001b[90mDisplayAs\u001b[39m\n",
            "\u001b[32m  ✓ \u001b[39mMarkdownTables\n",
            "  3 dependencies successfully precompiled in 2 seconds. 188 already precompiled.\n"
          ]
        }
      ],
      "source": [
        "import Pkg\n",
        "Pkg.activate(@__DIR__)\n",
        "Pkg.instantiate()"
      ]
    },
    {
      "cell_type": "code",
      "execution_count": 6,
      "id": "4",
      "metadata": {},
      "outputs": [],
      "source": [
        "using JuMP\n",
        "using HiGHS\n",
        "using DataFrames\n",
        "using Plots\n",
        "using Measures\n",
        "using CSV\n",
        "using MarkdownTables"
      ]
    },
    {
      "cell_type": "markdown",
      "id": "95301b87-804f-412b-8301-2b17c375bdb9",
      "metadata": {},
      "source": [
        "## Problems (Total: 50/60 Points)\n",
        "\n",
        "### Problem 1 (20 points)\n",
        "\n",
        "A farmer has access to a pesticide which can be used on corn, soybeans,\n",
        "and wheat fields, and costs \\$70/ha-yr to apply. The crop yields the\n",
        "farmer can obtain following crop yields by applying varying rates of\n",
        "pesticides to the field are shown in\n",
        "<a href=\"#tbl-yields\" class=\"quarto-xref\">Table 1</a>.\n",
        "\n",
        "| Application Rate (kg/ha) | Soybean (kg/ha) | Wheat (kg/ha) | Corn (kg/ha) |\n",
        "|:------------------------:|:---------------:|:-------------:|:------------:|\n",
        "|            0             |      2900       |     3500      |     5900     |\n",
        "|            1             |      3800       |     4100      |     6700     |\n",
        "|            2             |      4400       |     4200      |     7900     |\n",
        "\n",
        "Table 1: Crop yields from applying varying pesticide rates for Problem\n",
        "1.\n",
        "\n",
        "The costs of production, *excluding pesticides*, for each crop, and\n",
        "selling prices, are shown in\n",
        "<a href=\"#tbl-costs\" class=\"quarto-xref\">Table 2</a>.\n",
        "\n",
        "|   Crop   | Production Cost (\\$/ha-yr) | Selling Price (\\$/kg) |\n",
        "|:--------:|:--------------------------:|:---------------------:|\n",
        "| Soybeans |            350             |         0.36          |\n",
        "|  Wheat   |            280             |         0.27          |\n",
        "|   Corn   |            390             |         0.22          |\n",
        "\n",
        "Table 2: Costs of crop production, excluding pesticides, and selling\n",
        "prices for each crop.\n",
        "\n",
        "Recently, environmental authorities have declared that farms cannot have\n",
        "an *average* application rate on soybeans, wheat, and corn which exceeds\n",
        "0.8, 0.7, and 0.6 kg/ha, respectively. The farmer has asked you for\n",
        "advice on how they should plant crops and apply pesticides to maximize\n",
        "profits over 130 total ha while remaining in regulatory compliance if\n",
        "demand for each crop (which is the maximum the market would buy) this\n",
        "year is 250,000 kg?\n",
        "\n",
        "**In this problem**:\n",
        "\n",
        "-   Formulate a linear program for this resource allocation problem,\n",
        "    including clear definitions of decision variable(s) (including\n",
        "    units), objective function(s), and constraint(s) (make sure to\n",
        "    explain functions and constraints with any needed derivations and\n",
        "    explanations). **Tip: Make sure that all of your constraints are\n",
        "    linear**.\n",
        "-   Implement the program in `JuMP.jl` and find the solution. How many\n",
        "    ha should the farmer dedicate to each crop and with what pesticide\n",
        "    application rate(s)? How much profit will the farmer expect to make?\n",
        "-   The farmer has an opportunity to buy an extra 10 ha of land. How\n",
        "    much extra profit would this land be worth to the farmer? Discuss\n",
        "    why this value makes sense and whether you would recommend the\n",
        "    farmer should make the purchase.\n"
      ]
    },
    {
      "cell_type": "markdown",
      "id": "f02de371",
      "metadata": {},
      "source": [
        "There are 3 crop types and for each crop type there are 3 different pesticide application possibilities creating 9 different scenarios. The decision variable is the amount of land in each scenario."
      ]
    },
    {
      "cell_type": "code",
      "execution_count": 4,
      "id": "6f7eaae8",
      "metadata": {},
      "outputs": [
        {
          "name": "stdout",
          "output_type": "stream",
          "text": [
            "Y[1, 2] = 3800\n"
          ]
        },
        {
          "data": {
            "text/plain": [
              "3800"
            ]
          },
          "metadata": {},
          "output_type": "display_data"
        }
      ],
      "source": [
        "Y = [[2900, 3500, 5900];; [3800, 4100, 6700];; [4400, 4200, 7900]]    # yield\n",
        "\n",
        "@show Y[1,2]\n",
        "\n",
        "# D[x,y] = xth column, yth row"
      ]
    },
    {
      "cell_type": "code",
      "execution_count": 10,
      "id": "65d101f1",
      "metadata": {},
      "outputs": [
        {
          "ename": "ErrorException",
          "evalue": "Constraints of type MathOptInterface.ScalarNonlinearFunction-in-MathOptInterface.LessThan{Float64} are not supported by the solver.\n\nIf you expected the solver to support your problem, you may have an error in your formulation. Otherwise, consider using a different solver.\n\nThe list of available solvers, along with the problem types they support, is available at https://jump.dev/JuMP.jl/stable/installation/#Supported-solvers.",
          "output_type": "error",
          "traceback": [
            "Constraints of type MathOptInterface.ScalarNonlinearFunction-in-MathOptInterface.LessThan{Float64} are not supported by the solver.\n",
            "\n",
            "If you expected the solver to support your problem, you may have an error in your formulation. Otherwise, consider using a different solver.\n",
            "\n",
            "The list of available solvers, along with the problem types they support, is available at https://jump.dev/JuMP.jl/stable/installation/#Supported-solvers.\n",
            "\n",
            "Stacktrace:\n",
            " [1] error(s::String)\n",
            "   @ Base ./error.jl:35\n",
            " [2] _moi_add_constraint(model::MathOptInterface.Utilities.CachingOptimizer{MathOptInterface.Bridges.LazyBridgeOptimizer{HiGHS.Optimizer}, MathOptInterface.Utilities.UniversalFallback{MathOptInterface.Utilities.Model{Float64}}}, f::MathOptInterface.ScalarNonlinearFunction, s::MathOptInterface.LessThan{Float64})\n",
            "   @ JuMP ~/.julia/packages/JuMP/7rBNn/src/constraints.jl:1004\n",
            " [3] add_constraint(model::Model, con::ScalarConstraint{NonlinearExpr, MathOptInterface.LessThan{Float64}}, name::String)\n",
            "   @ JuMP ~/.julia/packages/JuMP/7rBNn/src/constraints.jl:1036\n",
            " [4] macro expansion\n",
            "   @ ~/.julia/packages/JuMP/7rBNn/src/macros/@constraint.jl:173 [inlined]\n",
            " [5] macro expansion\n",
            "   @ ~/.julia/packages/JuMP/7rBNn/src/macros.jl:393 [inlined]\n",
            " [6] top-level scope\n",
            "   @ ~/BEE 4750/Homework/hw4-isa-ma-bay-1/jl_notebook_cell_df34fa98e69747e1a8f8a730347b8e2f_X20sZmlsZQ==.jl:20"
          ]
        }
      ],
      "source": [
        "# Define given parameters\n",
        "C = [350, 280, 390]     # production cost\n",
        "Cp = 70                 # pesticide cost - $/kg applied - you\n",
        "# pesticide cost = 70*rate*area\n",
        "P = [0.36, 0.27, 0.22]  # selling price\n",
        "Y = [[2900, 3500, 5900];; [3800, 4100, 6700];; [4400, 4200, 7900]]    # yield\n",
        "M = [0.8, 0.7, 0.6]     # maximum pesticide\n",
        "\n",
        "crop_model = Model(HiGHS.Optimizer) # initialize model object\n",
        "@variable(crop_model, A[1:3, 1:3] >= 0) # non-negativity constraints for 9 variables\n",
        "\n",
        "# define objective funtion equation\n",
        "#OF = sum(sum(P[x] * Y[x,y] * A[x,y] - C[x] * A[x,y] - Cp * A[x,y] for y = 1:3) for x = 1:3)\n",
        "@objective(crop_model, Max, sum(sum(P[x] * Y[x,y] * A[x,y] - C[x] * A[x,y] - Cp * A[x,y] * (y-1) for y = 1:3) for x = 1:3))\n",
        "\n",
        "\n",
        "# uncomment the following lines and add the objective and constraints as needed for the model\n",
        "for i in 1:3 # for each crop type\n",
        "        # avg pesticide use constraint\n",
        "        @constraint(crop_model,  (sum(A[i,j]*(j-1) for j = 1:3) / sum(A[i,j] for j=1:3)) <= M[i])\n",
        "\n",
        "end\n",
        "\n",
        "@constraint(crop_model, total_area, sum(sum(A[x,y] for y in 1:3) for x in 1:3) <= 130)\n",
        "@constraint(crop_model, total_yield, sum(sum(A[x,y]*Y[x,y] for y = 1:3) for x = 1:3) <= 250000)\n",
        "\n",
        "\n",
        "\n",
        "\n",
        "# @constraint(crop_model, total_yield, Y[1]*A[1]+Y[2]*A[2]+Y[3]*A[3]+Y[4]*A[4]+Y[5*A[5]+Y[6]*A[6]+Y[7]*A[7]+Y[8]*A[8]+Y[9]*A[9])\n",
        "# @constraint(crop_model, )\n",
        "\n",
        "#print(forest_model) # this outputs a nicely formatted summary of the model so you can check your specification"
      ]
    },
    {
      "cell_type": "markdown",
      "id": "59e59cb5",
      "metadata": {},
      "source": [
        "\n",
        "### Problem 2 (30 points)\n",
        "\n",
        "For this problem, we will use hourly load (demand) data from 2013 in New\n",
        "York’s Zone C (which includes Ithaca). The load data is loaded and\n",
        "plotted below in <a href=\"#fig-demand\" class=\"quarto-xref\">Figure 1</a>."
      ]
    },
    {
      "cell_type": "code",
      "execution_count": 1,
      "id": "cell-fig-demand",
      "metadata": {},
      "outputs": [
        {
          "ename": "UndefVarError",
          "evalue": "UndefVarError: `CSV` not defined",
          "output_type": "error",
          "traceback": [
            "UndefVarError: `CSV` not defined\n",
            "\n",
            "Stacktrace:\n",
            " [1] top-level scope\n",
            "   @ ~/BEE 4750/Homework/hw4-isa-ma-bay-1/jl_notebook_cell_df34fa98e69747e1a8f8a730347b8e2f_W4sZmlsZQ==.jl:2"
          ]
        }
      ],
      "source": [
        "# load the data, pull Zone C, and reformat the DataFrame\n",
        "NY_demand = DataFrame(CSV.File(\"data/2013_hourly_load_NY.csv\"))\n",
        "rename!(NY_demand, :\"Time Stamp\" => :Date)\n",
        "demand = NY_demand[:, [:Date, :C]]\n",
        "rename!(demand, :C => :Demand)\n",
        "demand[:, :Hour] = 1:nrow(demand)\n",
        "\n",
        "# plot demand\n",
        "plot(demand.Hour, demand.Demand, xlabel=\"Hour of Year\", ylabel=\"Demand (MWh)\", label=:false)"
      ]
    },
    {
      "cell_type": "markdown",
      "id": "093068c3-31fc-4cff-8844-acf115d23ef2",
      "metadata": {},
      "source": [
        "Next, we load the generator data, shown in\n",
        "<a href=\"#tbl-generators\" class=\"quarto-xref\">Table 3</a>. This data\n",
        "includes fixed costs (\\$/MW installed), variable costs (\\$/MWh\n",
        "generated), and CO<sub>2</sub> emissions intensity (tCO<sub>2</sub>/MWh\n",
        "generated)."
      ]
    },
    {
      "cell_type": "code",
      "execution_count": 2,
      "id": "2be2db0e-b9d6-4c46-b0cd-72a7b94257d3",
      "metadata": {},
      "outputs": [
        {
          "ename": "UndefVarError",
          "evalue": "UndefVarError: `CSV` not defined",
          "output_type": "error",
          "traceback": [
            "UndefVarError: `CSV` not defined\n",
            "\n",
            "Stacktrace:\n",
            " [1] top-level scope\n",
            "   @ ~/BEE 4750/Homework/hw4-isa-ma-bay-1/jl_notebook_cell_df34fa98e69747e1a8f8a730347b8e2f_W6sZmlsZQ==.jl:1"
          ]
        }
      ],
      "source": [
        "gens = DataFrame(CSV.File(\"data/generators.csv\"))"
      ]
    },
    {
      "cell_type": "markdown",
      "id": "3393bcbd-c9db-49c8-8df2-4fbd18e2ef7a",
      "metadata": {},
      "source": [
        "Finally, we load the hourly solar and wind capacity factors, which are\n",
        "plotted in <a href=\"#fig-cf\" class=\"quarto-xref\">Figure 2</a>. These\n",
        "tell us the fraction of installed capacity which is expected to be\n",
        "available in a given hour for generation (typically based on the average\n",
        "meteorology)."
      ]
    },
    {
      "cell_type": "code",
      "execution_count": 3,
      "id": "402cb6be-4e9b-47ff-94d8-7bcf34db5e1f",
      "metadata": {
        "layout-nrow": 2
      },
      "outputs": [
        {
          "ename": "UndefVarError",
          "evalue": "UndefVarError: `CSV` not defined",
          "output_type": "error",
          "traceback": [
            "UndefVarError: `CSV` not defined\n",
            "\n",
            "Stacktrace:\n",
            " [1] top-level scope\n",
            "   @ ~/BEE 4750/Homework/hw4-isa-ma-bay-1/jl_notebook_cell_df34fa98e69747e1a8f8a730347b8e2f_X11sZmlsZQ==.jl:2"
          ]
        }
      ],
      "source": [
        "# load capacify factors into a DataFrame\n",
        "cap_factor = DataFrame(CSV.File(\"data/wind_solar_capacity_factors.csv\"))\n",
        "\n",
        "# plot January capacity factors\n",
        "p1 = plot(cap_factor.Wind[1:(24*31)], label=\"Wind\")\n",
        "plot!(cap_factor.Solar[1:(24*31)], label=\"Solar\")\n",
        "xaxis!(\"Hour of the Month\")\n",
        "yaxis!(\"Capacity Factor\")\n",
        "\n",
        "p2 = plot(cap_factor.Wind[4344:4344+(24*31)], label=\"Wind\")\n",
        "plot!(cap_factor.Solar[4344:4344+(24*31)], label=\"Solar\")\n",
        "xaxis!(\"Hour of the Month\")\n",
        "yaxis!(\"Capacity Factor\")\n",
        "\n",
        "display(p1)\n",
        "display(p2)"
      ]
    },
    {
      "cell_type": "markdown",
      "id": "937504b4-b01f-4e1c-893a-39af537a2b63",
      "metadata": {},
      "source": [
        "You have been asked to develop a generating capacity expansion plan for\n",
        "the utility in Riley County, NY, which currently has no existing\n",
        "electrical generation infrastructure. The utility can build any of the\n",
        "following plant types: geothermal, coal, natural gas combined cycle gas\n",
        "turbine (CCGT), natural gas combustion turbine (CT), solar, and wind.\n",
        "\n",
        "While coal, CCGT, and CT plants can generate at their full installed\n",
        "capacity, geothermal plants operate at maximum 85% capacity, and solar\n",
        "and wind available capacities vary by the hour depend on the expected\n",
        "meteorology. The utility will also penalize any non-served demand at a\n",
        "rate of \\$10,000/MWh.\n",
        "\n",
        "**In this problem**:\n",
        "\n",
        "-   Formulate a linear program for this capacity expansion problem,\n",
        "    including clear definitions of decision variable(s) (including\n",
        "    units), objective function(s), and constraint(s) (make sure to\n",
        "    explain functions and constraints with any needed derivations and\n",
        "    explanations).\n",
        "-   Implement your linear program in `JuMP.jl`. Find the optimal\n",
        "    solution. How much should the utility build of each type of\n",
        "    generating plant? What will the total cost be? How much energy will\n",
        "    be non-served?\n",
        "-   What fraction of annual generation does each plant type produce? How\n",
        "    does this compare to the breakdown of built capacity that you found\n",
        "    in Problem 1.5? Do these results make sense given the generator\n",
        "    data?\n",
        "-   Make a plot of the electricity price in each hour. Discuss any\n",
        "    trends that you see.\n",
        "\n",
        "> **Significant Digits**\n",
        ">\n",
        "> Use `round(x; digits=n)` to report values to the appropriate\n",
        "> precision! If your number is on a different order of magnitude and you\n",
        "> want to round to a certain number of significant digits, you can use\n",
        "> `round(x; sigdigits=n)`.\n",
        "\n",
        "> **Getting Variable Output Values**\n",
        ">\n",
        "> `value.(x)` will report the values of a `JuMP` variable `x`, but it\n",
        "> will return a special container which holds other information about\n",
        "> `x` that is useful for `JuMP`. This means that you can’t use this\n",
        "> output directly for further calculations. To just extract the values,\n",
        "> use `value.(x).data`.\n",
        "\n",
        "> **Suppressing Model Command Output**\n",
        ">\n",
        "> The output of specifying model components (variable or constraints)\n",
        "> can be quite large for this problem because of the number of time\n",
        "> periods. If you end a cell with an `@variable` or `@constraint`\n",
        "> command, I *highly* recommend suppressing output by adding a\n",
        "> semi-colon after the last command, or you might find that your\n",
        "> notebook crashes.\n",
        "\n",
        "### Problem 3 (10 points)\n",
        "\n",
        "**This problem is only required for students in BEE 5750**.\n",
        "\n",
        "The NY state legislature is considering enacting an annual\n",
        "CO<sub>2</sub> limit, which for the utility would limit the emissions in\n",
        "its footprint to 1.5 MtCO<sub>2</sub>/yr.\n",
        "\n",
        "**In this problem**:\n",
        "\n",
        "-   Reformulate your linear program from Problem 2 with any necessary\n",
        "    changes to capture the CO<sub>2</sub> limit.\n",
        "-   Implement the new optimization problem and find the optimal\n",
        "    solution. How much should the utility build of each type of\n",
        "    generating plant? What is different from your plan from Problem 1?\n",
        "    Do these changes make sense?\n",
        "-   What would the value to the utility be of allowing it to emit an\n",
        "    additional 1000 tCO<sub>2</sub>/yr? An additional 5000?"
      ]
    },
    {
      "cell_type": "markdown",
      "id": "4f454cd1-66ed-4951-bc25-4b6798ad49bc",
      "metadata": {},
      "source": [
        "## References\n",
        "\n",
        "List any external references consulted, including classmates."
      ]
    },
    {
      "cell_type": "markdown",
      "id": "e0a84fe0",
      "metadata": {},
      "source": []
    },
    {
      "cell_type": "markdown",
      "id": "89751292",
      "metadata": {},
      "source": []
    }
  ],
  "metadata": {
    "kernel_info": {
      "name": "julia"
    },
    "kernelspec": {
      "display_name": "Julia 1.10.4",
      "language": "julia",
      "name": "julia-1.10"
    },
    "language_info": {
      "file_extension": ".jl",
      "mimetype": "application/julia",
      "name": "julia",
      "version": "1.10.4"
    }
  },
  "nbformat": 4,
  "nbformat_minor": 5
}
